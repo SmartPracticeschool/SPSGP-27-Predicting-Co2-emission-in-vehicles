{
 "cells": [
  {
   "cell_type": "code",
   "execution_count": null,
   "metadata": {},
   "outputs": [
    {
     "name": "stdout",
     "output_type": "stream",
     "text": [
      " * Serving Flask app \"__main__\" (lazy loading)\n",
      " * Environment: production\n",
      "   WARNING: This is a development server. Do not use it in a production deployment.\n",
      "   Use a production WSGI server instead.\n",
      " * Debug mode: off\n"
     ]
    },
    {
     "name": "stderr",
     "output_type": "stream",
     "text": [
      " * Running on http://127.0.0.1:5000/ (Press CTRL+C to quit)\n",
      "[2020-11-20 00:49:00,931] ERROR in app: Exception on / [GET]\n",
      "Traceback (most recent call last):\n",
      "  File \"c:\\users\\mahendra\\appdata\\local\\programs\\python\\python38\\lib\\site-packages\\flask\\app.py\", line 2447, in wsgi_app\n",
      "    response = self.full_dispatch_request()\n",
      "  File \"c:\\users\\mahendra\\appdata\\local\\programs\\python\\python38\\lib\\site-packages\\flask\\app.py\", line 1952, in full_dispatch_request\n",
      "    rv = self.handle_user_exception(e)\n",
      "  File \"c:\\users\\mahendra\\appdata\\local\\programs\\python\\python38\\lib\\site-packages\\flask\\app.py\", line 1821, in handle_user_exception\n",
      "    reraise(exc_type, exc_value, tb)\n",
      "  File \"c:\\users\\mahendra\\appdata\\local\\programs\\python\\python38\\lib\\site-packages\\flask\\_compat.py\", line 39, in reraise\n",
      "    raise value\n",
      "  File \"c:\\users\\mahendra\\appdata\\local\\programs\\python\\python38\\lib\\site-packages\\flask\\app.py\", line 1950, in full_dispatch_request\n",
      "    rv = self.dispatch_request()\n",
      "  File \"c:\\users\\mahendra\\appdata\\local\\programs\\python\\python38\\lib\\site-packages\\flask\\app.py\", line 1936, in dispatch_request\n",
      "    return self.view_functions[rule.endpoint](**req.view_args)\n",
      "  File \"<ipython-input-1-13b9c4d53b07>\", line 13, in home\n",
      "    return render_template(\"indexnew.html\")\n",
      "  File \"c:\\users\\mahendra\\appdata\\local\\programs\\python\\python38\\lib\\site-packages\\flask\\templating.py\", line 138, in render_template\n",
      "    ctx.app.jinja_env.get_or_select_template(template_name_or_list),\n",
      "  File \"c:\\users\\mahendra\\appdata\\local\\programs\\python\\python38\\lib\\site-packages\\jinja2\\environment.py\", line 930, in get_or_select_template\n",
      "    return self.get_template(template_name_or_list, parent, globals)\n",
      "  File \"c:\\users\\mahendra\\appdata\\local\\programs\\python\\python38\\lib\\site-packages\\jinja2\\environment.py\", line 883, in get_template\n",
      "    return self._load_template(name, self.make_globals(globals))\n",
      "  File \"c:\\users\\mahendra\\appdata\\local\\programs\\python\\python38\\lib\\site-packages\\jinja2\\environment.py\", line 857, in _load_template\n",
      "    template = self.loader.load(self, name, globals)\n",
      "  File \"c:\\users\\mahendra\\appdata\\local\\programs\\python\\python38\\lib\\site-packages\\jinja2\\loaders.py\", line 115, in load\n",
      "    source, filename, uptodate = self.get_source(environment, name)\n",
      "  File \"c:\\users\\mahendra\\appdata\\local\\programs\\python\\python38\\lib\\site-packages\\flask\\templating.py\", line 60, in get_source\n",
      "    return self._get_source_fast(environment, template)\n",
      "  File \"c:\\users\\mahendra\\appdata\\local\\programs\\python\\python38\\lib\\site-packages\\flask\\templating.py\", line 89, in _get_source_fast\n",
      "    raise TemplateNotFound(template)\n",
      "jinja2.exceptions.TemplateNotFound: indexnew.html\n",
      "127.0.0.1 - - [20/Nov/2020 00:49:00] \"\u001b[35m\u001b[1mGET / HTTP/1.1\u001b[0m\" 500 -\n",
      "127.0.0.1 - - [20/Nov/2020 00:49:01] \"\u001b[33mGET /favicon.ico HTTP/1.1\u001b[0m\" 404 -\n"
     ]
    }
   ],
   "source": [
    "from flask import Flask,request,render_template\n",
    "import numpy as np\n",
    "import pandas as pd\n",
    "import pickle\n",
    "\n",
    "\n",
    "app=Flask(__name__)\n",
    "filepath=\"D:\\CO2-emission of cars -Ravina chauhan\\Flask\\CO2.pkl\"\n",
    "model=pickle.load(open(filepath,'rb'))\n",
    "\n",
    "@app.route('/')\n",
    "def home():\n",
    "    return render_template(\"indexnew.html\")\n",
    "    \n",
    "@app.route('/predict',methods=[\"POST\",\"GET\"])\n",
    "\n",
    "def predict():\n",
    "    input_feature=[float(x) for x in request.form.values() ]\n",
    "    \n",
    "    features_values=[np.array(input_feature)]\n",
    "    \n",
    "    feature_name=['Make', 'Vehicle_Class', 'Engine_Size', 'Cylinders',\n",
    "       'Transmission', 'Fuel_Type', 'Fuel_Consumption_City',\n",
    "       'Fuel_Consumption_Hwy', 'Fuel_Consumption_Comb(mpg)']\n",
    "    \n",
    "    x=pd.DataFrame(features_values,columns=feature_name)\n",
    "    \n",
    "    prediction=model.predict(x)\n",
    "    \n",
    "    print(\"Prediction is:\",prediction)\n",
    "    \n",
    "    return render_template(\"resultnew.html\",prediction=prediction[0])\n",
    "\n",
    "\n",
    "if __name__==\"__main__\":\n",
    "    app.run(debug=False)"
   ]
  },
  {
   "cell_type": "code",
   "execution_count": null,
   "metadata": {},
   "outputs": [],
   "source": []
  }
 ],
 "metadata": {
  "kernelspec": {
   "display_name": "Python 3",
   "language": "python",
   "name": "python3"
  },
  "language_info": {
   "codemirror_mode": {
    "name": "ipython",
    "version": 3
   },
   "file_extension": ".py",
   "mimetype": "text/x-python",
   "name": "python",
   "nbconvert_exporter": "python",
   "pygments_lexer": "ipython3",
   "version": "3.8.5"
  }
 },
 "nbformat": 4,
 "nbformat_minor": 4
}
